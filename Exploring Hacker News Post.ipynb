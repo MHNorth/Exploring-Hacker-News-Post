{
 "cells": [
  {
   "cell_type": "markdown",
   "metadata": {},
   "source": [
    "<div>\n",
    "    <b>Description:</b> Exploring Hacker News Post<br>\n",
    "    <b>Author:</b> Maika Carmelle Henry Northrop\n",
    "</div>\n",
    "<br>"
   ]
  },
  {
   "cell_type": "code",
   "execution_count": 3,
   "metadata": {},
   "outputs": [],
   "source": [
    "#import modules\n",
    "import csv\n",
    "from csv import reader\n",
    "import pandas as pd\n",
    "import pprint"
   ]
  },
  {
   "cell_type": "markdown",
   "metadata": {},
   "source": [
    "# Exploring Y-Combinator's Hacker News Post"
   ]
  },
  {
   "cell_type": "markdown",
   "metadata": {},
   "source": [
    "In this project, our goal is explore and analyze a data set from the Hacker News Site.  Hacker news was developed by the startup incubator Y Combinator, where user's post tech stories and they are voted and commented by other users.  Hacker News is very popular among the tech community and startups.  Posts that make it to the top of their listings typically get hundreds of thousands of unique visits and views.\n",
    "\n",
    "We are specifically interested in posts whose titles begin with **Ask HN** or **Show HN**.  Users submit Ask HN or Show HN posts to either ask the large Hacker News community a specific question or show the community a project, product or something interesting.  Following are examples of recent posts (March 2019):\n",
    "\n",
    "* Ask HN: Startup failed after years of work -- Can I even get a job now?\n",
    "* Show HN: A simple Prolog Interpreter written in a few lines of Python 3\n",
    "* Ask HN: Recommended Platform for Programming Interviews?\n",
    "* Show HN: Is running a VM windows 10 on a Linux OS (Ubuntu) secure?\n",
    "\n",
    "We will compare these two types of posts to determine:\n",
    "\n",
    "* On average, which title receives the most comments.\n",
    "* On average, do posts submitted at a certain time receive more comments\n",
    "* Which title receives the most points on average.\n",
    "* Compare the results to the average number of comments and points other posts receive"
   ]
  },
  {
   "cell_type": "markdown",
   "metadata": {},
   "source": [
    "## Collecting the Data"
   ]
  },
  {
   "cell_type": "markdown",
   "metadata": {},
   "source": [
    "The data set we will be using can be found on Kaggle's website [here](https://www.kaggle.com/hacker-news/hacker-news-posts).  It has been reduced from almost 300,000 rows to approximately 20,000 rows by removing all submissions that did not receive any comments, and then randomly sampling from the remaining submissions.  The columns and descriptions are:\n",
    "\n",
    "* **id** - The unique identifier from Hacker News for the post\n",
    "* **title** - The title of the post\n",
    "* **url** - The URL that the posts links to, if it has a URL\n",
    "* **num_points** - The number of points the post acquired, calculated as the total number of upvotes minus the total number of downvotes\n",
    "*  **num_comments** - The number of comments that the post generated\n",
    "* **author** - The username of the person who submitted the post\n",
    "* **created_at** - The date and time at which the post was submitted"
   ]
  },
  {
   "cell_type": "markdown",
   "metadata": {},
   "source": [
    "## Let's explore the Hacker News data set"
   ]
  },
  {
   "cell_type": "markdown",
   "metadata": {},
   "source": [
    "The following function was created following the DRY design method so that we can repeatedly print rows in a more readable way. Also, an option has been added to our function to show the number of rows and columns for any data set."
   ]
  },
  {
   "cell_type": "code",
   "execution_count": 4,
   "metadata": {},
   "outputs": [],
   "source": [
    "def explore_data(dataset, start, end, rows_and_columns=False):\n",
    "    dataset_slice = dataset[start:end]\n",
    "    for row in dataset_slice:\n",
    "        print(row)\n",
    "        print('\\n') # adds a new (empty) line after each row\n",
    "        \n",
    "    if rows_and_columns:\n",
    "        print('Number of rows:', len(dataset))\n",
    "        print('Number of columns:', len(dataset[0]))"
   ]
  },
  {
   "cell_type": "markdown",
   "metadata": {},
   "source": [
    "## Let's begin by opening and reading the data set."
   ]
  },
  {
   "cell_type": "code",
   "execution_count": 5,
   "metadata": {},
   "outputs": [],
   "source": [
    "### Open Hacker News Post data set ###\n",
    "opened_file = open('datasets/hackernews_post_2016.csv', encoding=\"utf8\")\n",
    "read_file = reader(opened_file)\n",
    "hacker = list(read_file)\n",
    "hacker_header = hacker[0]\n",
    "hacker = hacker[1:]"
   ]
  },
  {
   "cell_type": "code",
   "execution_count": 7,
   "metadata": {},
   "outputs": [
    {
     "name": "stdout",
     "output_type": "stream",
     "text": [
      "['id', 'title', 'url', 'num_points', 'num_comments', 'author', 'created_at']\n",
      "\n",
      "\n",
      "['12579008', 'You have two days to comment if you want stem cells to be classified as your own', 'http://www.regulations.gov/document?D=FDA-2015-D-3719-0018', '1', '0', 'altstar', '9/26/2016 3:26']\n",
      "\n",
      "\n",
      "['12579005', 'SQLAR  the SQLite Archiver', 'https://www.sqlite.org/sqlar/doc/trunk/README.md', '1', '0', 'blacksqr', '9/26/2016 3:24']\n",
      "\n",
      "\n",
      "['12578997', 'What if we just printed a flatscreen television on the side of our boxes?', 'https://medium.com/vanmoof/our-secrets-out-f21c1f03fdc8#.ietxmez43', '1', '0', 'pavel_lishin', '9/26/2016 3:19']\n",
      "\n",
      "\n",
      "['12578989', 'algorithmic music', 'http://cacm.acm.org/magazines/2011/7/109891-algorithmic-composition/fulltext', '1', '0', 'poindontcare', '9/26/2016 3:16']\n",
      "\n",
      "\n",
      "['12578979', 'How the Data Vault Enables the Next-Gen Data Warehouse and Data Lake', 'https://www.talend.com/blog/2016/05/12/talend-and-Â\\x93the-data-vaultÂ\\x94', '1', '0', 'markgainor1', '9/26/2016 3:14']\n",
      "\n",
      "\n",
      "Number of rows: 293119\n",
      "Number of columns: 7\n"
     ]
    }
   ],
   "source": [
    "### Explore Hacker News Post data set\n",
    "print(hacker_header)\n",
    "print('\\n')\n",
    "explore_data(hacker, 0, 5, True)  # print first 5 rows"
   ]
  },
  {
   "cell_type": "markdown",
   "metadata": {},
   "source": [
    "## Data Set Summary"
   ]
  },
  {
   "cell_type": "markdown",
   "metadata": {},
   "source": [
    "There are 293,119 android apps and 7 columns in this data set.  Below are the columns along with their descriptions:\n",
    "* id - The unique identifier from Hacker News for the post\n",
    "* title - The title of the post\n",
    "* url - The URL that the posts links to, assuming the post has an URL\n",
    "* num_points- the number of points the post acquired, calculated as the total number of upvotes minus the total number of downvotes\n",
    "* author - The username of the person who submitted the post\n",
    "* created_at - The date and time at which the post was submitted"
   ]
  },
  {
   "cell_type": "markdown",
   "metadata": {},
   "source": [
    "## Remove submissions that received no comments."
   ]
  },
  {
   "cell_type": "markdown",
   "metadata": {},
   "source": [
    "When we explored the dataset, there were a number of submissions that did not receive comments.  We are specifically interested in posts that are engaging or at the very least, have a minimum of 1 comments from the community. Let's optimize our dataset by removing submissions without comments."
   ]
  },
  {
   "cell_type": "code",
   "execution_count": null,
   "metadata": {},
   "outputs": [],
   "source": []
  }
 ],
 "metadata": {
  "kernelspec": {
   "display_name": "Python 3",
   "language": "python",
   "name": "python3"
  },
  "language_info": {
   "codemirror_mode": {
    "name": "ipython",
    "version": 3
   },
   "file_extension": ".py",
   "mimetype": "text/x-python",
   "name": "python",
   "nbconvert_exporter": "python",
   "pygments_lexer": "ipython3",
   "version": "3.5.5"
  },
  "widgets": {
   "state": {},
   "version": "1.1.2"
  }
 },
 "nbformat": 4,
 "nbformat_minor": 2
}
