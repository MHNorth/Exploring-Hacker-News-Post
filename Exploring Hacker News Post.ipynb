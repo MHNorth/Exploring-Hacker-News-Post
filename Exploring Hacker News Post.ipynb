{
 "cells": [
  {
   "cell_type": "markdown",
   "metadata": {},
   "source": [
    "<div>\n",
    "    <b>Description:</b> Exploring Hacker News Post<br>\n",
    "    <b>Author:</b> Maika Carmelle Henry Northrop\n",
    "</div>\n",
    "<br>"
   ]
  },
  {
   "cell_type": "code",
   "execution_count": 10,
   "metadata": {},
   "outputs": [],
   "source": [
    "#import modules\n",
    "import csv\n",
    "from csv import reader\n",
    "import pandas as pd\n",
    "import pprint\n",
    "import datetime as dt"
   ]
  },
  {
   "cell_type": "markdown",
   "metadata": {},
   "source": [
    "# Exploring Y-Combinator's Hacker News Post"
   ]
  },
  {
   "cell_type": "markdown",
   "metadata": {},
   "source": [
    "In this project, our goal is explore and analyze a data set from the Hacker News Site.  Hacker news was developed by the startup incubator Y Combinator, where user's post tech stories and they are voted and commented by other users.  Hacker News is very popular among the tech community and startups.  Posts that make it to the top of their listings typically get hundreds of thousands of unique visits and views.\n",
    "\n",
    "We are specifically interested in posts whose titles begin with **Ask HN** or **Show HN**.  Users submit Ask HN or Show HN posts to either ask the large Hacker News community a specific question or show the community a project, product or something interesting.  Following are examples of recent posts (March 2019):\n",
    "\n",
    "* Ask HN: Startup failed after years of work -- Can I even get a job now?\n",
    "* Show HN: A simple Prolog Interpreter written in a few lines of Python 3\n",
    "* Ask HN: Recommended Platform for Programming Interviews?\n",
    "* Show HN: Is running a VM windows 10 on a Linux OS (Ubuntu) secure?\n",
    "\n",
    "We will compare these two types of posts to determine:\n",
    "\n",
    "* On average, which title receives the most comments.\n",
    "* On average, do posts submitted at a certain time receive more comments\n",
    "* Which title receives the most points on average.\n",
    "* Compare the results to the average number of comments and points other posts receive"
   ]
  },
  {
   "cell_type": "markdown",
   "metadata": {},
   "source": [
    "## Collecting the Data"
   ]
  },
  {
   "cell_type": "markdown",
   "metadata": {},
   "source": [
    "The data set we will be using can be found on Kaggle's website [here](https://www.kaggle.com/hacker-news/hacker-news-posts).  It has been reduced from almost 300,000 rows to approximately 20,000 rows by removing all submissions that did not receive any comments, and then randomly sampling from the remaining submissions.  The columns and descriptions are:\n",
    "\n",
    "* **id** - The unique identifier from Hacker News for the post\n",
    "* **title** - The title of the post\n",
    "* **url** - The URL that the posts links to, if it has a URL\n",
    "* **num_points** - The number of points the post acquired, calculated as the total number of upvotes minus the total number of downvotes\n",
    "*  **num_comments** - The number of comments that the post generated\n",
    "* **author** - The username of the person who submitted the post\n",
    "* **created_at** - The date and time at which the post was submitted"
   ]
  },
  {
   "cell_type": "markdown",
   "metadata": {},
   "source": [
    "## Let's explore the Hacker News data set"
   ]
  },
  {
   "cell_type": "markdown",
   "metadata": {},
   "source": [
    "The following function was created following the DRY design method so that we can repeatedly print rows in a more readable way. Also, an option has been added to our function to show the number of rows and columns for any data set."
   ]
  },
  {
   "cell_type": "code",
   "execution_count": 3,
   "metadata": {},
   "outputs": [],
   "source": [
    "def explore_data(dataset, start, end, rows_and_columns=False):\n",
    "    dataset_slice = dataset[start:end]\n",
    "    for row in dataset_slice:\n",
    "        pprint.pprint(row)\n",
    "        \n",
    "    if rows_and_columns:\n",
    "        print('Number of rows:', len(dataset))\n",
    "        print('Number of columns:', len(dataset[0]))"
   ]
  },
  {
   "cell_type": "markdown",
   "metadata": {},
   "source": [
    "## Let's begin by opening and reading the data set."
   ]
  },
  {
   "cell_type": "code",
   "execution_count": 4,
   "metadata": {},
   "outputs": [],
   "source": [
    "### Open Hacker News Post data set ###\n",
    "opened_file = open('datasets/hackernews_post_2016.csv', encoding=\"utf8\")\n",
    "read_file = reader(opened_file)\n",
    "hacker = list(read_file)\n",
    "hacker_header = hacker[0]\n",
    "hacker = hacker[1:]"
   ]
  },
  {
   "cell_type": "code",
   "execution_count": 5,
   "metadata": {},
   "outputs": [
    {
     "name": "stdout",
     "output_type": "stream",
     "text": [
      "['id', 'title', 'url', 'num_points', 'num_comments', 'author', 'created_at']\n",
      "\n",
      "\n",
      "['12579008',\n",
      " 'You have two days to comment if you want stem cells to be classified as your '\n",
      " 'own',\n",
      " 'http://www.regulations.gov/document?D=FDA-2015-D-3719-0018',\n",
      " '1',\n",
      " '0',\n",
      " 'altstar',\n",
      " '9/26/2016 3:26']\n",
      "['12579005',\n",
      " 'SQLAR  the SQLite Archiver',\n",
      " 'https://www.sqlite.org/sqlar/doc/trunk/README.md',\n",
      " '1',\n",
      " '0',\n",
      " 'blacksqr',\n",
      " '9/26/2016 3:24']\n",
      "['12578997',\n",
      " 'What if we just printed a flatscreen television on the side of our boxes?',\n",
      " 'https://medium.com/vanmoof/our-secrets-out-f21c1f03fdc8#.ietxmez43',\n",
      " '1',\n",
      " '0',\n",
      " 'pavel_lishin',\n",
      " '9/26/2016 3:19']\n",
      "['12578989',\n",
      " 'algorithmic music',\n",
      " 'http://cacm.acm.org/magazines/2011/7/109891-algorithmic-composition/fulltext',\n",
      " '1',\n",
      " '0',\n",
      " 'poindontcare',\n",
      " '9/26/2016 3:16']\n",
      "['12578979',\n",
      " 'How the Data Vault Enables the Next-Gen Data Warehouse and Data Lake',\n",
      " 'https://www.talend.com/blog/2016/05/12/talend-and-Â\\x93the-data-vaultÂ\\x94',\n",
      " '1',\n",
      " '0',\n",
      " 'markgainor1',\n",
      " '9/26/2016 3:14']\n",
      "Number of rows: 293119\n",
      "Number of columns: 7\n"
     ]
    }
   ],
   "source": [
    "### Explore Hacker News Post data set\n",
    "print(hacker_header)\n",
    "print('\\n')\n",
    "explore_data(hacker, 0, 5, True)  # print first 5 rows"
   ]
  },
  {
   "cell_type": "markdown",
   "metadata": {},
   "source": [
    "## Data Set Summary"
   ]
  },
  {
   "cell_type": "markdown",
   "metadata": {},
   "source": [
    "There are 293,119 android apps and 7 columns in this data set.  Below are the columns along with their descriptions:\n",
    "* id - The unique identifier from Hacker News for the post\n",
    "* title - The title of the post\n",
    "* url - The URL that the posts links to, assuming the post has an URL\n",
    "* num_points- the number of points the post acquired, calculated as the total number of upvotes minus the total number of downvotes\n",
    "* author - The username of the person who submitted the post\n",
    "* created_at - The date and time at which the post was submitted"
   ]
  },
  {
   "cell_type": "markdown",
   "metadata": {},
   "source": [
    "## Remove submissions that received no comments."
   ]
  },
  {
   "cell_type": "markdown",
   "metadata": {},
   "source": [
    "When we explored the dataset, there were a number of submissions that did not receive comments.  We are specifically interested in posts that are engaging or at the very least, have a minimum of 1 comments from the community. Let's optimize our dataset by removing submissions without comments."
   ]
  },
  {
   "cell_type": "code",
   "execution_count": 6,
   "metadata": {},
   "outputs": [
    {
     "name": "stdout",
     "output_type": "stream",
     "text": [
      "[['12578975',\n",
      "  'Saving the Hassle of Shopping',\n",
      "  'https://blog.menswr.com/2016/09/07/whats-new-with-your-style-feed/',\n",
      "  '1',\n",
      "  '1',\n",
      "  'bdoux',\n",
      "  '9/26/2016 3:13'],\n",
      " ['12578908',\n",
      "  'Ask HN: What TLD do you use for local development?',\n",
      "  '',\n",
      "  '4',\n",
      "  '7',\n",
      "  'Sevrene',\n",
      "  '9/26/2016 2:53'],\n",
      " ['12578822',\n",
      "  'Amazons Algorithms Dont Find You the Best Deals',\n",
      "  'https://www.technologyreview.com/s/602442/amazons-algorithms-dont-find-you-the-best-deals/',\n",
      "  '1',\n",
      "  '1',\n",
      "  'yarapavan',\n",
      "  '9/26/2016 2:26'],\n",
      " ['12578694',\n",
      "  'Emergency dose of epinephrine that does not cost an arm and a leg',\n",
      "  'http://m.imgur.com/gallery/th6Ua',\n",
      "  '2',\n",
      "  '1',\n",
      "  'dredmorbius',\n",
      "  '9/26/2016 1:54'],\n",
      " ['12578624',\n",
      "  'Phone Makers Could Cut Off Drivers. So Why Dont They?',\n",
      "  'http://www.nytimes.com/2016/09/25/technology/phone-makers-could-cut-off-drivers-so-why-dont-they.html',\n",
      "  '4',\n",
      "  '1',\n",
      "  'danso',\n",
      "  '9/26/2016 1:37']]\n"
     ]
    }
   ],
   "source": [
    "# remove submissions that received no comments\n",
    "hacker_posts = []\n",
    "\n",
    "for posts in hacker:\n",
    "    num_comments = int(posts[4])\n",
    "    if num_comments > 0:\n",
    "        hacker_posts.append(posts)\n",
    "        \n",
    "pprint.pprint(hacker_posts[0:5])"
   ]
  },
  {
   "cell_type": "markdown",
   "metadata": {},
   "source": [
    "## Extracting Ask HN and Show HN Posts"
   ]
  },
  {
   "cell_type": "markdown",
   "metadata": {},
   "source": [
    "First, we'll identify posts that begin with either Ask HN or Show HN and then separate the data for these posts into different lists.  By separating the data, it makes it much easier to analyze."
   ]
  },
  {
   "cell_type": "code",
   "execution_count": 7,
   "metadata": {},
   "outputs": [
    {
     "name": "stdout",
     "output_type": "stream",
     "text": [
      "6898\n",
      "5055\n",
      "68448\n"
     ]
    }
   ],
   "source": [
    "# Identify posts that begins with either 'Ask HN' or 'Show HN' and separate the data into different lists.\n",
    "ask_posts = []\n",
    "show_posts = []\n",
    "other_posts = []\n",
    "\n",
    "for post in hacker_posts:\n",
    "    title = post[1]\n",
    "    if title.lower().startswith(\"ask hn:\"):\n",
    "        ask_posts.append(post)\n",
    "    elif title.lower().startswith(\"show hn:\"):\n",
    "        show_posts.append(post)\n",
    "    else:\n",
    "        other_posts.append(post)\n",
    "        \n",
    "print(len(ask_posts))\n",
    "print(len(show_posts))\n",
    "print(len(other_posts))"
   ]
  },
  {
   "cell_type": "markdown",
   "metadata": {},
   "source": [
    "## Calculating the Average Number of Comments for Ask HN and Show HN Posts\n",
    "Now that we've separated ask and show posts into different categories, let's calculate the average number of comments each type of post receives:"
   ]
  },
  {
   "cell_type": "code",
   "execution_count": 8,
   "metadata": {},
   "outputs": [
    {
     "name": "stdout",
     "output_type": "stream",
     "text": [
      "13.754276601913599\n"
     ]
    }
   ],
   "source": [
    "# Calculate the avg number of comments from 'Ask HN'\n",
    "total_ask_comments = 0\n",
    "\n",
    "for post in ask_posts:\n",
    "    total_ask_comments += int(post[4])\n",
    "    \n",
    "avg_ask_comments = total_ask_comments / len(ask_posts)\n",
    "print(avg_ask_comments)"
   ]
  },
  {
   "cell_type": "markdown",
   "metadata": {},
   "source": [
    "On average, ask posts in our sample receives approximately 14 comments, whereas show posts receive approximately 10.  Since ask posts are most likely to receive more comments, we'll focus our analysis on these posts."
   ]
  },
  {
   "cell_type": "markdown",
   "metadata": {},
   "source": [
    "## Finding the Amount of Ask Posts and Comments by Hour Created\n",
    "Now, let's determine if we can maximize the amount of comments an ask post receives by creating it at a certain time.  First, we'll find the amount of ask posts created during each hour of the day, along with the number of comments those posts received.  Then we'll calculate the average amount of comments ask posts created at each hour of the day."
   ]
  },
  {
   "cell_type": "code",
   "execution_count": 11,
   "metadata": {},
   "outputs": [
    {
     "data": {
      "text/plain": [
       "{'00': 2273,\n",
       " '01': 2068,\n",
       " '02': 2996,\n",
       " '03': 2154,\n",
       " '04': 2355,\n",
       " '05': 1838,\n",
       " '06': 1587,\n",
       " '07': 1585,\n",
       " '08': 2362,\n",
       " '09': 1477,\n",
       " '10': 3011,\n",
       " '11': 2797,\n",
       " '12': 4228,\n",
       " '13': 7237,\n",
       " '14': 4972,\n",
       " '15': 18525,\n",
       " '16': 4463,\n",
       " '17': 5536,\n",
       " '18': 4833,\n",
       " '19': 3949,\n",
       " '20': 4462,\n",
       " '21': 4500,\n",
       " '22': 3372,\n",
       " '23': 2297}"
      ]
     },
     "execution_count": 11,
     "metadata": {},
     "output_type": "execute_result"
    }
   ],
   "source": [
    "# Calculate the amount of ask posts created during each hour of the day and the number\n",
    "\n",
    "result_list = []\n",
    "\n",
    "for post in ask_posts:\n",
    "    result_list.append(\n",
    "    [post[6], int(post[4])]\n",
    "    )\n",
    "comments_by_hour = {}\n",
    "counts_by_hour = {}\n",
    "date_format = \"%m/%d/%Y %H:%M\"\n",
    "\n",
    "for each_row in result_list:\n",
    "    date = each_row[0]\n",
    "    comment = each_row[1]\n",
    "    time = dt.datetime.strptime(date, date_format).strftime(\"%H\")\n",
    "    if time in counts_by_hour:\n",
    "        comments_by_hour[time] += comment\n",
    "        counts_by_hour[time] += 1\n",
    "    else:\n",
    "        comments_by_hour[time] = comment\n",
    "        counts_by_hour[time] = 1\n",
    "        \n",
    "comments_by_hour"
   ]
  },
  {
   "cell_type": "code",
   "execution_count": null,
   "metadata": {},
   "outputs": [],
   "source": []
  }
 ],
 "metadata": {
  "kernelspec": {
   "display_name": "Python 3",
   "language": "python",
   "name": "python3"
  },
  "language_info": {
   "codemirror_mode": {
    "name": "ipython",
    "version": 3
   },
   "file_extension": ".py",
   "mimetype": "text/x-python",
   "name": "python",
   "nbconvert_exporter": "python",
   "pygments_lexer": "ipython3",
   "version": "3.5.5"
  },
  "widgets": {
   "state": {},
   "version": "1.1.2"
  }
 },
 "nbformat": 4,
 "nbformat_minor": 2
}
