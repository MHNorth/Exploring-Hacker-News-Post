{
 "cells": [
  {
   "cell_type": "code",
   "execution_count": 3,
   "metadata": {},
   "outputs": [],
   "source": [
    "#import modules\n",
    "import csv\n",
    "from csv import reader\n",
    "import pandas as pd\n",
    "import pprint"
   ]
  },
  {
   "cell_type": "markdown",
   "metadata": {},
   "source": [
    "# Exploring Y-Combinator's Hacker News Post"
   ]
  },
  {
   "cell_type": "markdown",
   "metadata": {},
   "source": [
    "In this project, our goal is explore and analyze a data set from the Hacker News Site.  Hacker news was developed by the startup incubator Y Combinator, where user's post tech stories and they are voted and commented by other users.  Hacker News is very popular among the tech community and startups.  Posts that make it to the top of their listings typically get hundreds of thousands of unique visits and views.\n",
    "\n",
    "We are specifically interested in posts whose titles begin with **Ask HN** or **Show HN**.  Users submit Ask HN or Show HN posts to either ask the large Hacker News community a specific question or show the community a project, product or something interesting.  Following are examples of recent posts (March 2019):\n",
    "\n",
    "* Ask HN: Startup failed after years of work -- Can I even get a job now?\n",
    "* Show HN: A simple Prolog Interpreter written in a few lines of Python 3\n",
    "* Ask HN: Recommended Platform for Programming Interviews?\n",
    "* Show HN: Is running a VM windows 10 on a Linux OS (Ubuntu) secure?\n",
    "\n",
    "We will compare these two types of posts to determine:\n",
    "\n",
    "* On average, which title receives the most comments.\n",
    "* On average, do posts submitted at a certain time receive more comments\n",
    "* Which title receives the most points on average.\n",
    "* Compare the results to the average number of comments and points other posts receive"
   ]
  },
  {
   "cell_type": "markdown",
   "metadata": {},
   "source": [
    "## Collecting the Data"
   ]
  },
  {
   "cell_type": "markdown",
   "metadata": {},
   "source": [
    "The data set we will be using can be found on Kaggle's website [here](https://www.kaggle.com/hacker-news/hacker-news-posts).  It has been reduced from almost 300,000 rows to approximately 20,000 rows by removing all submissions that did not receive any comments, and then randomly sampling from the remaining submissions.  The columns and descriptions are:\n",
    "\n",
    "* **id** - The unique identifier from Hacker News for the post\n",
    "* **title** - The title of the post\n",
    "* **url** - The URL that the posts links to, if it has a URL\n",
    "* **num_points** - The number of points the post acquired, calculated as the total number of upvotes minus the total number of downvotes\n",
    "*  **num_comments** - The number of comments that the post generated\n",
    "* **author** - The username of the person who submitted the post\n",
    "* **created_at** - The date and time at which the post was submitted"
   ]
  },
  {
   "cell_type": "markdown",
   "metadata": {},
   "source": [
    "## Let's explore the Hacker News data set"
   ]
  },
  {
   "cell_type": "markdown",
   "metadata": {},
   "source": [
    "The following function was created following the DRY design method so that we can repeatedly print rows in a more readable way. Also, an option has been added to our function to show the number of rows and columns for any data set."
   ]
  },
  {
   "cell_type": "code",
   "execution_count": null,
   "metadata": {},
   "outputs": [],
   "source": [
    "def explore_data(dataset, start, end, rows_and_columns=False):\n",
    "    dataset_slice = dataset[start:end]\n",
    "    for row in dataset_slice:\n",
    "        print(row)\n",
    "        print('\\n') # adds a new (empty) line after each row\n",
    "        \n",
    "    if rows_and_columns:\n",
    "        print('Number of rows:', len(dataset))\n",
    "        print('Number of columns:', len(dataset[0]))"
   ]
  }
 ],
 "metadata": {
  "kernelspec": {
   "display_name": "Python 3",
   "language": "python",
   "name": "python3"
  },
  "language_info": {
   "codemirror_mode": {
    "name": "ipython",
    "version": 3
   },
   "file_extension": ".py",
   "mimetype": "text/x-python",
   "name": "python",
   "nbconvert_exporter": "python",
   "pygments_lexer": "ipython3",
   "version": "3.5.5"
  },
  "widgets": {
   "state": {},
   "version": "1.1.2"
  }
 },
 "nbformat": 4,
 "nbformat_minor": 2
}
